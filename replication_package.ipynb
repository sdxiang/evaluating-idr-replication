{
 "cells": [
  {
   "cell_type": "markdown",
   "id": "367b5bfc-9dc6-4a12-b76f-29873ed40833",
   "metadata": {},
   "source": [
    "# Replication code for \"Evaluating interdisciplinary research\""
   ]
  },
  {
   "cell_type": "code",
   "execution_count": null,
   "id": "1b2a4e95-42ee-45e5-80fa-3254ee10505a",
   "metadata": {
    "vscode": {
     "languageId": "r"
    }
   },
   "outputs": [],
   "source": [
    "library(dplyr, quietly = TRUE)\n",
    "library(ggplot2)\n",
    "library(grid)\n",
    "library(gridExtra)\n",
    "library(gtools)\n",
    "library(margins)\n",
    "library(marginaleffects)\n",
    "library(scales)\n",
    "library(stargazer, quietly = TRUE)\n",
    "library(tidyr, quietly = TRUE)"
   ]
  },
  {
   "cell_type": "code",
   "execution_count": null,
   "id": "8881af88-53f7-4109-bb5f-90faf395f61a",
   "metadata": {
    "vscode": {
     "languageId": "r"
    }
   },
   "outputs": [],
   "source": [
    "# Reading in data\n",
    "# Note that for anonymization purposes, interdisciplinarity measures are standardized with normally distributed noise,\n",
    "# 1% of binary outcomes are flipped, and covariates are deciled.\n",
    "\n",
    "subs_df <- read.csv(\"subs_anon.csv\")  # Submissions\n",
    "revs_df <- read.csv(\"revs_anon.csv\")  # Reviews"
   ]
  },
  {
   "cell_type": "markdown",
   "id": "db58037e-7ba2-4664-ac41-64fa4c989247",
   "metadata": {},
   "source": [
    "## Table 1: Descriptive statistics & correlations"
   ]
  },
  {
   "cell_type": "code",
   "execution_count": null,
   "id": "9af8e598-2b75-4d49-a543-4c227661332e",
   "metadata": {
    "vscode": {
     "languageId": "r"
    }
   },
   "outputs": [],
   "source": [
    "summary(subs_df)"
   ]
  },
  {
   "cell_type": "code",
   "execution_count": null,
   "id": "4f88a6c8-a99c-4710-b05c-4252cefe6d93",
   "metadata": {
    "vscode": {
     "languageId": "r"
    }
   },
   "outputs": [],
   "source": [
    "subs_df %>%\n",
    "    select(topic_interdis, kb_interdis, teamsize_decile, maxcites_decile, numrefs_decile, prevpubs_decile) %>%\n",
    "    drop_na() %>%\n",
    "    cor()"
   ]
  },
  {
   "cell_type": "markdown",
   "id": "84807dd0-fbf6-48ac-b1dd-3c825c836d70",
   "metadata": {},
   "source": [
    "## Table 2: Logistic regression, final decision"
   ]
  },
  {
   "cell_type": "code",
   "execution_count": null,
   "id": "1ac3161d-ce43-4ed6-9720-129c41af6488",
   "metadata": {
    "vscode": {
     "languageId": "r"
    }
   },
   "outputs": [],
   "source": [
    "mod1 <- glm(final_decision ~ topic_interdis,\n",
    "    family = binomial(link=\"logit\"),\n",
    "    data=subs_df)\n",
    "mod2 <- glm(final_decision ~ kb_interdis,\n",
    "    family = binomial(link=\"logit\"),\n",
    "    data=subs_df)\n",
    "mod3 <- glm(final_decision ~ topic_interdis + journal + manuscript_type + as.factor(year) + as.factor(teamsize_decile) + as.factor(maxcites_decile) + as.factor(numrefs_decile) + as.factor(prevpubs_decile),\n",
    "    family = binomial(link=\"logit\"),\n",
    "    control=glm.control(maxit=50),\n",
    "    data=subs_df)\n",
    "mod4 <- glm(final_decision ~ kb_interdis + journal + manuscript_type + as.factor(year) + as.factor(teamsize_decile) + as.factor(maxcites_decile) + as.factor(numrefs_decile) + as.factor(prevpubs_decile),\n",
    "    family = binomial(link=\"logit\"),\n",
    "    control=glm.control(maxit=50),\n",
    "    data=subs_df)\n",
    "mod5 <- glm(final_decision ~ topic_interdis + kb_interdis + journal + manuscript_type + as.factor(year) + as.factor(teamsize_decile) + as.factor(maxcites_decile) + as.factor(numrefs_decile) + as.factor(prevpubs_decile),\n",
    "    family = binomial(link=\"logit\"),\n",
    "    control=glm.control(maxit=50),\n",
    "    data=subs_df)\n",
    "mod6 <- glm(final_decision ~ topic_interdis*kb_interdis + journal + manuscript_type + as.factor(year) + as.factor(teamsize_decile) + as.factor(maxcites_decile) + as.factor(numrefs_decile) + as.factor(prevpubs_decile),\n",
    "    family = binomial(link=\"logit\"),\n",
    "    control=glm.control(maxit=50),\n",
    "    data=subs_df)\n",
    "\n",
    "stargazer(mod1,mod2,mod3,mod4,mod5,mod6,\n",
    "          type = \"text\",\n",
    "          title=\"Logistic regression: Final decision\",\n",
    "          align = TRUE,\n",
    "          dep.var.labels = c(\"Final decision\"),\n",
    "          no.space = TRUE,\n",
    "          omit = c(\"journal\", \"manuscript_type\", \"as.factor.year\", \"as.factor.teamsize_decile\", \"as.factor.maxcites_decile\", \"as.factor.numrefs_decile\", \"as.factor.prevpubs_decile\"),\n",
    "          covariate.labels = c(\"Constant\",\"Topic ID\", \"Knowledgebase ID\", \"Topic ID:Knowledgebase ID\"),\n",
    "          intercept.bottom = FALSE,\n",
    "          digits = 3,\n",
    "          digits.extra = 0)\n",
    "\n",
    "# Saving coefficients to plot\n",
    "fd_coef_3 <- coef(mod3)[\"topic_interdis\"]\n",
    "fd_stderr_3 <- summary(mod3)$coef[\"topic_interdis\", \"Std. Error\"]\n",
    "fd_coef_4 <- coef(mod4)[\"kb_interdis\"]\n",
    "fd_stderr_4 <- summary(mod4)$coef[\"kb_interdis\", \"Std. Error\"]"
   ]
  },
  {
   "cell_type": "code",
   "execution_count": null,
   "id": "b35ab8f8-ea4f-48ab-8121-704d348cbd7f",
   "metadata": {
    "vscode": {
     "languageId": "r"
    }
   },
   "outputs": [],
   "source": [
    "margins_topic <- margins(mod3, variables = \"topic_interdis\")\n",
    "margins_kb <- margins(mod4, variables = \"kb_interdis\")"
   ]
  },
  {
   "cell_type": "code",
   "execution_count": null,
   "id": "cbb82960",
   "metadata": {
    "vscode": {
     "languageId": "r"
    }
   },
   "outputs": [],
   "source": [
    "print(summary(margins_topic))\n",
    "print(summary(margins_kb))"
   ]
  },
  {
   "cell_type": "markdown",
   "id": "d1485223-858a-484f-b1c2-f5ef91f1878a",
   "metadata": {},
   "source": [
    "## Table 3: Logistic regression, review positivity"
   ]
  },
  {
   "cell_type": "code",
   "execution_count": null,
   "id": "15ae4c05-94d2-4ce4-b21f-48afb29415cc",
   "metadata": {
    "vscode": {
     "languageId": "r"
    }
   },
   "outputs": [],
   "source": [
    "mod1 <- glm(review_positivity ~ topic_interdis,\n",
    "    family = binomial(link=\"logit\"),\n",
    "    data=revs_df)\n",
    "mod2 <- glm(review_positivity ~ kb_interdis,\n",
    "    family = binomial(link=\"logit\"),\n",
    "    data=revs_df)\n",
    "mod3 <- glm(review_positivity ~ topic_interdis + journal + manuscript_type + as.factor(year) + as.factor(teamsize_decile) + as.factor(maxcites_decile) + as.factor(numrefs_decile) + as.factor(prevpubs_decile),\n",
    "    family = binomial(link=\"logit\"),\n",
    "    control=glm.control(maxit=50),\n",
    "    data=revs_df)\n",
    "mod4 <- glm(review_positivity ~ kb_interdis + journal + manuscript_type + as.factor(year) + as.factor(teamsize_decile) + as.factor(maxcites_decile) + as.factor(numrefs_decile) + as.factor(prevpubs_decile),\n",
    "    family = binomial(link=\"logit\"),\n",
    "    control=glm.control(maxit=50),\n",
    "    data=revs_df)\n",
    "mod5 <- glm(review_positivity ~ topic_interdis + kb_interdis + journal + manuscript_type + as.factor(year) + as.factor(teamsize_decile) + as.factor(maxcites_decile) + as.factor(numrefs_decile) + as.factor(prevpubs_decile),\n",
    "    family = binomial(link=\"logit\"),\n",
    "    control=glm.control(maxit=50),\n",
    "    data=revs_df)\n",
    "mod6 <- glm(review_positivity ~ topic_interdis*kb_interdis + journal + manuscript_type + as.factor(year) + as.factor(teamsize_decile) + as.factor(maxcites_decile) + as.factor(numrefs_decile) + as.factor(prevpubs_decile),\n",
    "    family = binomial(link=\"logit\"),\n",
    "    control=glm.control(maxit=50),\n",
    "    data=revs_df)\n",
    "\n",
    "stargazer(mod1,mod2,mod3,mod4,mod5,mod6, \n",
    "          apply.coef = exp, # Uncomment for ORs\n",
    "          ci = TRUE,  # Uncomment for ORs (have to use CIs b/c SEs will be incorrect)\n",
    "          type = \"text\",\n",
    "          title=\"Logistic regression: Review positivity\",\n",
    "          align = TRUE,\n",
    "          dep.var.labels = c(\"Review positivity\"),\n",
    "          no.space = TRUE,\n",
    "          omit = c(\"journal\", \"manuscript_type\", \"as.factor.year\", \"as.factor.teamsize_decile\", \"as.factor.maxcites_decile\", \"as.factor.numrefs_decile\", \"as.factor.prevpubs_decile\"),\n",
    "          covariate.labels = c(\"Constant\",\"Topic ID\", \"Knowledgebase ID\", \"Topic ID:Knowledgebase ID\"),\n",
    "          intercept.bottom = FALSE,\n",
    "          digits = 3,\n",
    "          digits.extra = 0)\n",
    "\n",
    "# Saving coefficients to plot\n",
    "rp_coef_3 <- coef(mod3)[\"topic_interdis\"]\n",
    "rp_stderr_3 <- summary(mod3)$coef[\"topic_interdis\", \"Std. Error\"]\n",
    "rp_coef_4 <- coef(mod4)[\"kb_interdis\"]\n",
    "rp_stderr_4 <- summary(mod4)$coef[\"kb_interdis\", \"Std. Error\"]"
   ]
  },
  {
   "cell_type": "markdown",
   "id": "7d0be3f4-c244-4296-b927-43189eb43a48",
   "metadata": {},
   "source": [
    "## Figure 1: Interdisciplinarity vs. review outcomes"
   ]
  },
  {
   "cell_type": "code",
   "execution_count": null,
   "id": "274354c0-bbf9-49cf-b9a1-78d0ba1b3aea",
   "metadata": {
    "vscode": {
     "languageId": "r"
    }
   },
   "outputs": [],
   "source": [
    "# Monodisciplinary and interdisciplinary journal models\n",
    "mono_subs_df <- subset(subs_df, journal_type == \"Monodisciplinary\")\n",
    "interdis_subs_df <- subset(subs_df, journal_type == \"Interdisciplinary\")\n",
    "mono_revs_df <- subset(revs_df, journal_type == \"Monodisciplinary\")\n",
    "interdis_revs_df <- subset(revs_df, journal_type == \"Interdisciplinary\")\n",
    "\n",
    "mod_mono_3_fd <- glm(final_decision ~ topic_interdis + journal + manuscript_type + as.factor(year) + as.factor(teamsize_decile) + as.factor(maxcites_decile) + as.factor(numrefs_decile) + as.factor(prevpubs_decile),\n",
    "    family = binomial(link=\"logit\"),\n",
    "    control=glm.control(maxit=50),\n",
    "    data=mono_subs_df)\n",
    "\n",
    "mod_mono_3_rp <- glm(review_positivity ~ topic_interdis + journal + manuscript_type + as.factor(year) + as.factor(teamsize_decile) + as.factor(maxcites_decile) + as.factor(numrefs_decile) + as.factor(prevpubs_decile),\n",
    "    family = binomial(link=\"logit\"),\n",
    "    control=glm.control(maxit=50),\n",
    "    data=mono_revs_df)\n",
    "\n",
    "mod_mono_4_fd <- glm(final_decision ~ kb_interdis + journal + manuscript_type + as.factor(year) + as.factor(teamsize_decile) + as.factor(maxcites_decile) + as.factor(numrefs_decile) + as.factor(prevpubs_decile),\n",
    "    family = binomial(link=\"logit\"),\n",
    "    control=glm.control(maxit=50),\n",
    "    data=mono_subs_df)\n",
    "\n",
    "mod_mono_4_rp <- glm(review_positivity ~ kb_interdis + journal + manuscript_type + as.factor(year) + as.factor(teamsize_decile) + as.factor(maxcites_decile) + as.factor(numrefs_decile) + as.factor(prevpubs_decile),\n",
    "    family = binomial(link=\"logit\"),\n",
    "    control=glm.control(maxit=50),\n",
    "    data=mono_revs_df)\n",
    "\n",
    "mod_interdis_3_fd <- glm(final_decision ~ topic_interdis + journal + manuscript_type + as.factor(year) + as.factor(teamsize_decile) + as.factor(maxcites_decile) + as.factor(numrefs_decile) + as.factor(prevpubs_decile),\n",
    "    family = binomial(link=\"logit\"),\n",
    "    control=glm.control(maxit=50),\n",
    "    data=interdis_subs_df)\n",
    "\n",
    "mod_interdis_3_rp <- glm(review_positivity ~ topic_interdis + journal + manuscript_type + as.factor(year) + as.factor(teamsize_decile) + as.factor(maxcites_decile) + as.factor(numrefs_decile) + as.factor(prevpubs_decile),\n",
    "    family = binomial(link=\"logit\"),\n",
    "    control=glm.control(maxit=50),\n",
    "    data=interdis_revs_df)\n",
    "\n",
    "mod_interdis_4_fd <- glm(final_decision ~ kb_interdis + journal + manuscript_type + as.factor(year) + as.factor(teamsize_decile) + as.factor(maxcites_decile) + as.factor(numrefs_decile) + as.factor(prevpubs_decile),\n",
    "    family = binomial(link=\"logit\"),\n",
    "    control=glm.control(maxit=50),\n",
    "    data=interdis_subs_df)\n",
    "\n",
    "mod_interdis_4_rp <- glm(review_positivity ~ kb_interdis + journal + manuscript_type + as.factor(year) + as.factor(teamsize_decile) + as.factor(maxcites_decile) + as.factor(numrefs_decile) + as.factor(prevpubs_decile),\n",
    "    family = binomial(link=\"logit\"),\n",
    "    control=glm.control(maxit=50),\n",
    "    data=interdis_revs_df)\n",
    "\n",
    "mono_3_fd_coef <- coef(mod_mono_3_fd)[\"topic_interdis\"]\n",
    "mono_3_rp_coef <- coef(mod_mono_3_rp)[\"topic_interdis\"]\n",
    "mono_4_fd_coef <- coef(mod_mono_4_fd)[\"kb_interdis\"]\n",
    "mono_4_rp_coef <- coef(mod_mono_4_rp)[\"kb_interdis\"]\n",
    "interdis_3_fd_coef <- coef(mod_interdis_3_fd)[\"topic_interdis\"]\n",
    "interdis_3_rp_coef <- coef(mod_interdis_3_rp)[\"topic_interdis\"]\n",
    "interdis_4_fd_coef <- coef(mod_interdis_4_fd)[\"kb_interdis\"]\n",
    "interdis_4_rp_coef <- coef(mod_interdis_4_rp)[\"kb_interdis\"]\n",
    "\n",
    "mono_3_fd_stderr <- summary(mod_mono_3_fd)$coef[\"topic_interdis\", \"Std. Error\"]\n",
    "mono_3_rp_stderr <- summary(mod_mono_3_rp)$coef[\"topic_interdis\", \"Std. Error\"]\n",
    "mono_4_fd_stderr <- summary(mod_mono_4_fd)$coef[\"kb_interdis\", \"Std. Error\"]\n",
    "mono_4_rp_stderr <- summary(mod_mono_4_rp)$coef[\"kb_interdis\", \"Std. Error\"]\n",
    "interdis_3_fd_stderr <- summary(mod_interdis_3_fd)$coef[\"topic_interdis\", \"Std. Error\"]\n",
    "interdis_3_rp_stderr <- summary(mod_interdis_3_rp)$coef[\"topic_interdis\", \"Std. Error\"]\n",
    "interdis_4_fd_stderr <- summary(mod_interdis_4_fd)$coef[\"kb_interdis\", \"Std. Error\"]\n",
    "interdis_4_rp_stderr <- summary(mod_interdis_4_rp)$coef[\"kb_interdis\", \"Std. Error\"]"
   ]
  },
  {
   "cell_type": "code",
   "execution_count": null,
   "id": "a2b898a8-24af-496c-b7c4-a60a0c656d34",
   "metadata": {
    "vscode": {
     "languageId": "r"
    }
   },
   "outputs": [],
   "source": [
    "# Create dfs for plotting\n",
    "coef_df <- data.frame(\n",
    "    model = c(\"Topic, Final decision\", \"Topic, Review positivity\", \"Knowledge-base, Final decision\", \"Knowledge-base, Review positivity\"),\n",
    "    coefficient = c(fd_coef_3, rp_coef_3, fd_coef_4, rp_coef_4),\n",
    "    odds_ratio = exp(c(fd_coef_3, rp_coef_3, fd_coef_4, rp_coef_4)),\n",
    "    error = c(fd_stderr_3, rp_stderr_3, fd_stderr_4, rp_stderr_4),\n",
    "    journals = \"All\"\n",
    ")\n",
    "coef_df$model <- factor(coef_df$model, levels = c(\"Topic, Final decision\", \"Topic, Review positivity\", \"Knowledge-base, Final decision\", \"Knowledge-base, Review positivity\"))\n",
    "\n",
    "coef_df_mono <- data.frame(\n",
    "    model = c(\"Topic, Final decision\", \"Topic, Review positivity\", \"Knowledge-base, Final decision\", \"Knowledge-base, Review positivity\"),\n",
    "    coefficient = c(mono_3_fd_coef, mono_3_rp_coef, mono_4_fd_coef, mono_4_rp_coef),\n",
    "    odds_ratio = exp(c(mono_3_fd_coef, mono_3_rp_coef, mono_4_fd_coef, mono_4_rp_coef)),\n",
    "    error = c(mono_3_fd_stderr, mono_3_rp_stderr, mono_4_fd_stderr, mono_4_rp_stderr),\n",
    "    journals = \"Monodisciplinary\"\n",
    ")\n",
    "coef_df_mono$model <- factor(coef_df_mono$model, levels = c(\"Topic, Final decision\", \"Topic, Review positivity\", \"Knowledge-base, Final decision\", \"Knowledge-base, Review positivity\"))\n",
    "\n",
    "coef_df_int <- data.frame(\n",
    "    model = c(\"Topic, Final decision\", \"Topic, Review positivity\", \"Knowledge-base, Final decision\", \"Knowledge-base, Review positivity\"),\n",
    "    coefficient = c(interdis_3_fd_coef, interdis_3_rp_coef, interdis_4_fd_coef, interdis_4_rp_coef),\n",
    "    odds_ratio = exp(c(interdis_3_fd_coef, interdis_3_rp_coef, interdis_4_fd_coef, interdis_4_rp_coef)),\n",
    "    error = c(interdis_3_fd_stderr, interdis_3_rp_stderr, interdis_4_fd_stderr, interdis_4_rp_stderr),\n",
    "    journals = \"Interdisciplinary\"\n",
    ")\n",
    "coef_df_int$model <- factor(coef_df_int$model, levels = c(\"Topic, Final decision\", \"Topic, Review positivity\", \"Knowledge-base, Final decision\", \"Knowledge-base, Review positivity\"))\n",
    "\n",
    "\n",
    "# Plotting\n",
    "ymin <- 0.84\n",
    "ymax <- 1.13\n",
    "\n",
    "options(repr.plot.width = 18,repr.plot.height = 6)\n",
    "\n",
    "plot1 <- ggplot(data=coef_df, aes(x=model, y=odds_ratio)) + \n",
    "    geom_point(size=5, color=\"black\") +\n",
    "    geom_errorbar(aes(ymin=exp(coefficient - (1.96*error)), max = exp(coefficient + (1.96*error))), width = 0.1, color=\"black\") +\n",
    "    geom_hline(yintercept = 1, color = \"black\", size = 1) +\n",
    "    ylim(ymin, ymax) +\n",
    "    labs(title = \"All journals\",\n",
    "         x = \"\",\n",
    "         y= \"Odds ratio\") +\n",
    "    theme_light() +\n",
    "    theme(#axis.text.x = element_text(angle = 30, hjust = 1, size = 16),\n",
    "          axis.text.x = element_blank(),\n",
    "          axis.text.y = element_text(size = 16),\n",
    "          axis.title = element_text(size = 18),\n",
    "          legend.text = element_text(size = 14),\n",
    "          legend.title = element_text(size = 14),\n",
    "          plot.title = element_text(size = 20, face = \"bold\"),\n",
    "          plot.margin = unit(c(1, 1, 1, 1), \"cm\")\n",
    "    )\n",
    "\n",
    "plot2 <- ggplot(data=coef_df_mono, aes(x=model, y=odds_ratio)) + \n",
    "    geom_point(size=5, color=\"orange1\") +\n",
    "    geom_errorbar(aes(ymin=exp(coefficient - (1.96*error)), max = exp(coefficient + (1.96*error))), width = 0.1, color=\"orange1\") +\n",
    "    geom_hline(yintercept = 1, color = \"black\", size = 1) +\n",
    "    ylim(ymin, ymax) +\n",
    "    labs(title = \"Monodisicplinary journals only\",\n",
    "         x = \"\",\n",
    "         y= \"\") +\n",
    "    theme_light() +\n",
    "    theme(#axis.text.x = element_text(angle = 30, hjust = 1, size = 16),\n",
    "          axis.text.x = element_blank(),\n",
    "          axis.text.y = element_text(size = 16),\n",
    "          axis.title = element_text(size = 18),\n",
    "          legend.text = element_text(size = 14),\n",
    "          legend.title = element_text(size = 14),\n",
    "          plot.title = element_text(size = 20, face = \"bold\"),\n",
    "          plot.margin = unit(c(1, 1, 1, 1), \"cm\")\n",
    "    )\n",
    "\n",
    "plot3 <- ggplot(data=coef_df_int, aes(x=model, y=odds_ratio)) + \n",
    "    geom_point(size=5, color=\"royalblue1\") +\n",
    "    geom_errorbar(aes(ymin=exp(coefficient - (1.96*error)), max = exp(coefficient + (1.96*error))), width = 0.1, color=\"royalblue1\") +\n",
    "    geom_hline(yintercept = 1, color = \"black\", size = 1) +\n",
    "    ylim(ymin, ymax) +\n",
    "    labs(title = \"Interdisciplinary journals only\",\n",
    "         x = \"\",\n",
    "         y= \"\") +\n",
    "    theme_light() +\n",
    "    theme(#axis.text.x = element_text(angle = 30, hjust = 1, size = 16),\n",
    "          axis.text.x = element_blank(),\n",
    "          axis.text.y = element_text(size = 16),\n",
    "          axis.title = element_text(size = 18),\n",
    "          legend.text = element_text(size = 14),\n",
    "          legend.title = element_text(size = 14),\n",
    "          plot.title = element_text(size = 20, face = \"bold\"),\n",
    "          plot.margin = unit(c(1, 1, 1, 1), \"cm\")\n",
    "    )\n",
    "\n",
    "g <- arrangeGrob(plot1, plot2, plot3, ncol=3,\n",
    "            top=textGrob(\"Interdisciplinarity and review outcomes\",\n",
    "                         gp=gpar(fontsize=22,\n",
    "                                 fontface=\"bold\")))\n",
    "\n",
    "grid.draw(g)"
   ]
  },
  {
   "cell_type": "markdown",
   "id": "a35af82e-3108-41bb-85a1-3e9acf0570d7",
   "metadata": {},
   "source": [
    "## Figure 2: Interaction"
   ]
  },
  {
   "cell_type": "code",
   "execution_count": null,
   "id": "64a6d96f-8657-42ad-afc3-248554190321",
   "metadata": {
    "vscode": {
     "languageId": "r"
    }
   },
   "outputs": [],
   "source": [
    "mod6 <- glm(final_decision ~ topic_interdis*kb_interdis + journal + manuscript_type + as.factor(year) + as.factor(teamsize_decile) + as.factor(maxcites_decile) + as.factor(numrefs_decile) + as.factor(prevpubs_decile),\n",
    "    family = binomial(link=\"logit\"),\n",
    "    control=glm.control(maxit=50),\n",
    "    data=subs_df)\n",
    "\n",
    "p1 <- plot_predictions(mod6,\n",
    "                       condition=list('topic_interdis',\n",
    "                                   'kb_interdis' = 'threenum'),\n",
    "                       draw = FALSE)\n",
    "p2 <- plot_predictions(mod6,\n",
    "                       condition=list('kb_interdis',\n",
    "                                   'topic_interdis' = 'threenum'),\n",
    "                       draw = FALSE)"
   ]
  },
  {
   "cell_type": "code",
   "execution_count": null,
   "id": "44750a19-2863-43a0-9a41-3008f64ce794",
   "metadata": {
    "vscode": {
     "languageId": "r"
    }
   },
   "outputs": [],
   "source": [
    "# Plotting\n",
    "\n",
    "labels <- c('-SD', 'Mean', '+SD')\n",
    "options(repr.plot.width=12, repr.plot.height=6)\n",
    "\n",
    "ylims <- c(0.34, 0.58)\n",
    "breaks <- seq(0.35, 0.55, 0.05)\n",
    "xlims <- c(-1.5, 2)\n",
    "\n",
    "# KBID as line\n",
    "plot1 <- ggplot(p1, aes(x = topic_interdis, y = estimate,\n",
    "            linetype = kb_interdis, color = kb_interdis, fill = kb_interdis)) +\n",
    "            geom_line(size = 1) +\n",
    "            #scale_linetype_manual(values = c(\"solid\", \"dashed\", \"dotted\", \"dotdash\", \"longdash\")) +\n",
    "            scale_linetype_manual(values = c(\"solid\", \"dashed\", \"dotted\")) +\n",
    "            #scale_color_manual(values = hue_pal()(5)) +\n",
    "            scale_color_manual(values = hue_pal()(3)) +\n",
    "            geom_ribbon(aes(ymin = conf.low, ymax = conf.high), alpha = 0.1, color = NA) +\n",
    "            #scale_fill_manual(values = hue_pal()(5)) +\n",
    "            scale_fill_manual(values = hue_pal()(3)) +\n",
    "            scale_linetype_discrete(labels = labels) +\n",
    "            scale_color_discrete(labels = labels) +\n",
    "            scale_fill_discrete(labels = labels) +\n",
    "            scale_y_continuous(limits=ylims, breaks=breaks) +\n",
    "            scale_x_continuous(limits=xlims) +\n",
    "            theme_light(base_size = 14) +\n",
    "            labs(\n",
    "                  #title = \"Predicted probabilities of acceptance\",\n",
    "                  #title = \"Predicted probabilities of positive review\",\n",
    "                  x = \"Topic interdisciplinarity (SDs)\",\n",
    "                  y = \"Probability of acceptance\",\n",
    "                  #y = \"Probability of positive review\",\n",
    "                  linetype = \"Knowledge-base \\ninterdisciplinarity\",\n",
    "                  color = \"Knowledge-base \\ninterdisciplinarity\",\n",
    "                  fill = \"Knowledge-base \\ninterdisciplinarity\") +\n",
    "            theme(axis.line.x = element_line(arrow = grid::arrow(length = unit(0.3, \"cm\"), ends = \"last\")),\n",
    "                  axis.line.y = element_line(arrow = grid::arrow(length = unit(0.3, \"cm\"), ends = \"last\")),\n",
    "                  axis.text.x = element_text(size = 20),\n",
    "                  axis.text.y = element_text(size = 20),\n",
    "                  axis.title = element_text(size = 20),\n",
    "                  legend.text = element_text(size = 16),\n",
    "                  legend.title = element_text(size = 16),\n",
    "                  legend.position = c(0.05, 0.05),\n",
    "                  legend.justification = c(\"left\", \"bottom\"),\n",
    "                  plot.margin = unit(c(0.5, 0.5, 0.5, 0.5), \"cm\"))\n",
    "\n",
    "# TopID as line\n",
    "plot2 <- ggplot(p2, aes(x = kb_interdis, y = estimate,\n",
    "            linetype = topic_interdis, color = topic_interdis, fill = topic_interdis)) +\n",
    "            geom_line(size = 1) +\n",
    "            #scale_linetype_manual(values = c(\"solid\", \"dashed\", \"dotted\", \"dotdash\", \"longdash\")) +\n",
    "            scale_linetype_manual(values = c(\"solid\", \"dashed\", \"dotted\")) +\n",
    "            #scale_color_manual(values = hue_pal()(5)) +\n",
    "            scale_color_manual(values = hue_pal()(3)) +\n",
    "            geom_ribbon(aes(ymin = conf.low, ymax = conf.high), alpha = 0.1, color = NA) +\n",
    "            #scale_fill_manual(values = hue_pal()(5)) +\n",
    "            scale_fill_manual(values = hue_pal()(3)) +\n",
    "            scale_linetype_discrete(labels = labels) +\n",
    "            scale_color_discrete(labels = labels) +\n",
    "            scale_fill_discrete(labels = labels) +\n",
    "            scale_y_continuous(limits=ylims, breaks=breaks) +\n",
    "            scale_x_continuous(limits=xlims) +\n",
    "            theme_light(base_size = 14) +\n",
    "            labs(\n",
    "                  #title = \"Predicted probabilities of acceptance\",\n",
    "                  #title = \"Predicted probabilities of positive review\",\n",
    "                  x = \"Knowledge-base interdisciplinarity (SDs)\",\n",
    "                  y = \"\",\n",
    "                  #y = \"Probability of positive review\",\n",
    "                  linetype = \"Topic \\ninterdisciplinarity\",\n",
    "                  color = \"Topic \\ninterdisciplinarity\",\n",
    "                  fill = \"Topic \\ninterdisciplinarity\") +\n",
    "            theme(axis.line.x = element_line(arrow = grid::arrow(length = unit(0.3, \"cm\"), ends = \"last\")),\n",
    "                  axis.line.y = element_line(arrow = grid::arrow(length = unit(0.3, \"cm\"), ends = \"last\")),\n",
    "                  axis.text.x = element_text(size = 20),\n",
    "                  axis.text.y = element_text(size = 20),\n",
    "                  axis.title = element_text(size = 20),\n",
    "                  legend.text = element_text(size = 16),\n",
    "                  legend.title = element_text(size = 16),\n",
    "                  legend.position = c(0.95, 0.05),\n",
    "                  legend.justification = c(\"right\", \"bottom\"),\n",
    "                  plot.margin = unit(c(0.5, 0.5, 0.5, 0.5), \"cm\"))\n",
    "\n",
    "g <- arrangeGrob(plot1, plot2,\n",
    "                 ncol=2,\n",
    "                 top=textGrob(\"Interaction between topic and knowledge-base interdisciplinarity\",\n",
    "                             gp=gpar(fontsize=22,\n",
    "                                     fontface=\"bold\")))\n",
    "\n",
    "grid.draw(g)"
   ]
  }
 ],
 "metadata": {
  "kernelspec": {
   "display_name": "R",
   "language": "R",
   "name": "ir"
  },
  "language_info": {
   "codemirror_mode": "r",
   "file_extension": ".r",
   "mimetype": "text/x-r-source",
   "name": "R",
   "pygments_lexer": "r",
   "version": "4.1.2"
  }
 },
 "nbformat": 4,
 "nbformat_minor": 5
}
